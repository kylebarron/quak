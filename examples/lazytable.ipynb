{
 "cells": [
  {
   "cell_type": "code",
   "execution_count": null,
   "id": "2566d024-02b5-44a7-8bb5-99345622d57c",
   "metadata": {},
   "outputs": [],
   "source": [
    "%load_ext autoreload\n",
    "%autoreload 2\n",
    "%load_ext anywidget"
   ]
  },
  {
   "cell_type": "code",
   "execution_count": null,
   "id": "dc7a23f6-a3b7-40cf-a54a-6ada43f6d0a2",
   "metadata": {},
   "outputs": [],
   "source": [
    "import pandas as pd\n",
    "import ipytable\n",
    "from vega_datasets import data"
   ]
  },
  {
   "cell_type": "code",
   "execution_count": null,
   "id": "c6912842-1f36-48b6-9560-0b2f79610017",
   "metadata": {},
   "outputs": [],
   "source": [
    "df = data.movies()\n",
    "df['Release_Date'] = pd.to_datetime(df['Release_Date'], format='%b %d %Y')\n",
    "df['Release_Date'] = df['Release_Date']\n",
    "df = df.apply(lambda col: col.astype(\"string[pyarrow]\") if col.dtype == 'object' else col)"
   ]
  },
  {
   "cell_type": "code",
   "execution_count": null,
   "id": "8f9d28f9-1e10-4f4f-9f5e-9cdaf0872a2e",
   "metadata": {},
   "outputs": [],
   "source": [
    "widget = ipytable.Widget(df)\n",
    "widget"
   ]
  },
  {
   "cell_type": "code",
   "execution_count": null,
   "id": "53531fde-fed5-44b3-8232-f946e4bebeff",
   "metadata": {},
   "outputs": [],
   "source": [
    "import ipytable\n",
    "import duckdb\n",
    "\n",
    "conn = duckdb.connect()\n",
    "conn.execute(\"CREATE VIEW df AS SELECT * FROM '../data/yellow_tripdata_2024-01.parquet'\")\n",
    "ipytable.Widget(conn)"
   ]
  },
  {
   "cell_type": "code",
   "execution_count": null,
   "id": "caa7cefb-b7a8-4615-a50c-55d1888089ef",
   "metadata": {},
   "outputs": [],
   "source": [
    "import duckdb\n",
    "import ipytable\n",
    "conn = duckdb.connect()\n",
    "conn.execute(\"create table penguins as select * from 'https://raw.githubusercontent.com/mwaskom/seaborn-data/master/penguins.csv'\")\n",
    "conn.execute(\"\"\"\n",
    "ALTER TABLE penguins\n",
    "ADD COLUMN is_male BOOLEAN;\n",
    "UPDATE penguins\n",
    "SET is_male = CASE \n",
    "    WHEN sex = 'MALE' THEN TRUE \n",
    "    WHEN sex = 'FEMALE' THEN FALSE \n",
    "    ELSE NULL \n",
    "END;\n",
    "\"\"\")\n",
    "# conn.execute(\"create table movies as select * from 'movies.parquet'\")"
   ]
  },
  {
   "cell_type": "code",
   "execution_count": null,
   "id": "3f0e96bf-b7c5-4897-a182-174cee570b00",
   "metadata": {},
   "outputs": [],
   "source": [
    "ipytable.Widget(conn, table_name=\"penguins\")"
   ]
  },
  {
   "cell_type": "code",
   "execution_count": null,
   "id": "40e4c5bc-9664-4cf3-8032-f622942ce311",
   "metadata": {},
   "outputs": [],
   "source": [
    "import anndata\n",
    "import pooch\n",
    "\n",
    "# download a dataset\n",
    "datapath = pooch.retrieve(\n",
    "    url=\"https://figshare.com/ndownloader/files/40067737\",\n",
    "    known_hash=\"md5:b80deb0997f96b45d06f19c694e46243\",\n",
    "    path=\"../data\",\n",
    "    fname=\"scverse-getting-started-anndata-pbmc3k_processed.h5ad\",\n",
    ")\n",
    "adata = anndata.read_h5ad(\"../data/scverse-getting-started-anndata-pbmc3k_processed.h5ad\")\n",
    "adata"
   ]
  },
  {
   "cell_type": "code",
   "execution_count": null,
   "id": "f83643aa-bb4e-4128-84b2-82498d8981c2",
   "metadata": {},
   "outputs": [],
   "source": [
    "import ipytable\n",
    "ipytable.Widget(adata.obs)"
   ]
  },
  {
   "cell_type": "code",
   "execution_count": null,
   "id": "e6c6b27f-3ee7-446d-a83c-29dfd84116e7",
   "metadata": {},
   "outputs": [],
   "source": []
  }
 ],
 "metadata": {
  "kernelspec": {
   "display_name": "Python 3 (ipykernel)",
   "language": "python",
   "name": "python3"
  },
  "language_info": {
   "codemirror_mode": {
    "name": "ipython",
    "version": 3
   },
   "file_extension": ".py",
   "mimetype": "text/x-python",
   "name": "python",
   "nbconvert_exporter": "python",
   "pygments_lexer": "ipython3",
   "version": "3.12.2"
  },
  "widgets": {
   "application/vnd.jupyter.widget-state+json": {
    "state": {},
    "version_major": 2,
    "version_minor": 0
   }
  }
 },
 "nbformat": 4,
 "nbformat_minor": 5
}
